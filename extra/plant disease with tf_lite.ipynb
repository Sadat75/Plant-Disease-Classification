{
 "cells": [
  {
   "cell_type": "code",
   "execution_count": null,
   "id": "5242bf16",
   "metadata": {},
   "outputs": [],
   "source": [
    "from google.cloud import storage\n",
    "import tensorflow as tf\n",
    "from PIL import Image\n",
    "import numpy as np"
   ]
  },
  {
   "cell_type": "code",
   "execution_count": null,
   "id": "dcee8ad2",
   "metadata": {},
   "outputs": [],
   "source": [
    "model = None\n",
    "interpreter = None\n",
    "input_index = None\n",
    "output_index = None\n",
    "class_names = [\"Early Blight\", \"Late Blight\", \"Healthy\"]"
   ]
  },
  {
   "cell_type": "code",
   "execution_count": null,
   "id": "8f938a52",
   "metadata": {},
   "outputs": [],
   "source": [
    "BUCKET_NAME = \"plant-disease-tf-models\" # Here you need to put the name of your GCP bucket"
   ]
  },
  {
   "cell_type": "code",
   "execution_count": null,
   "id": "720ea80a",
   "metadata": {},
   "outputs": [],
   "source": [
    "def download_blob(bucket_name, source_blob_name, destination_file_name):\n",
    "    \"\"\"Downloads a blob from the bucket.\"\"\"\n",
    "    storage_client = storage.Client()\n",
    "    bucket = storage_client.get_bucket(bucket_name)\n",
    "    blob = bucket.blob(source_blob_name)\n",
    "\n",
    "    blob.download_to_filename(destination_file_name)\n",
    "\n",
    "    print(f\"Blob {source_blob_name} downloaded to {destination_file_name}.\")\n"
   ]
  },
  {
   "cell_type": "code",
   "execution_count": null,
   "id": "5eed5280",
   "metadata": {},
   "outputs": [],
   "source": [
    "def predict_using_tflite_model(image):\n",
    "    test_image = np.expand_dims(image, axis=0).astype(np.float32)\n",
    "    interpreter.set_tensor(input_index, test_image)\n",
    "    interpreter.invoke()\n",
    "    output = interpreter.tensor(output_index)\n",
    "    predictions = output()[0]\n",
    "    print(predictions)\n",
    "\n",
    "    predicted_class = class_names[np.argmax(predictions)]\n",
    "    confidence = round(100 * (np.max(predictions)), 2)\n",
    "    return predicted_class, confidence\n"
   ]
  },
  {
   "cell_type": "code",
   "execution_count": null,
   "id": "ccd2cc18",
   "metadata": {},
   "outputs": [],
   "source": [
    "def predict(request):\n",
    "    global model\n",
    "    if model is None:\n",
    "        download_blob(\n",
    "            BUCKET_NAME,\n",
    "            \"models/potatoes.h5\",\n",
    "            \"/tmp/potatoes.h5\",\n",
    "        )\n",
    "        model = tf.keras.models.load_model(\"/tmp/potatoes.h5\")\n",
    "\n",
    "    image = request.files[\"file\"]\n",
    "\n",
    "    image = np.array(\n",
    "        Image.open(image).convert(\"RGB\").resize((256, 256)) # image resizing\n",
    "    )\n",
    "\n",
    "    print(\"before scaling:\", image)\n",
    "    image = image/255 # normalize the image in 0 to 1 range\n",
    "    print(\"after scaling:\", image)\n",
    "\n",
    "    predicted_class, confidence = predict_using_regular_model(image)\n",
    "    return {\"class\": predicted_class, \"confidence\": confidence}"
   ]
  },
  {
   "cell_type": "code",
   "execution_count": null,
   "id": "e63b9177",
   "metadata": {},
   "outputs": [],
   "source": [
    "def predict_using_regular_model(img):\n",
    "    global model\n",
    "    img_array = tf.expand_dims(img, 0)\n",
    "    predictions = model.predict(img_array)\n",
    "\n",
    "    print(\"Predictions:\",predictions)\n",
    "\n",
    "    predicted_class = class_names[np.argmax(predictions[0])]\n",
    "    confidence = round(100 * (np.max(predictions[0])), 2)\n",
    "    return predicted_class, confidence"
   ]
  },
  {
   "cell_type": "code",
   "execution_count": null,
   "id": "e7d2241f",
   "metadata": {},
   "outputs": [],
   "source": [
    "def predict_lite(request):\n",
    "    global interpreter\n",
    "    global input_index\n",
    "    global output_index\n",
    "\n",
    "    if interpreter is None:\n",
    "        download_blob(\n",
    "            BUCKET_NAME,\n",
    "            \"models/potato-model.tflite\",\n",
    "            \"/tmp/potato-model.tflite\",\n",
    "        )\n",
    "        interpreter = tf.lite.Interpreter(model_path=\"/tmp/potato-model.tflite\")\n",
    "        interpreter.allocate_tensors()\n",
    "        input_index = interpreter.get_input_details()[0][\"index\"]\n",
    "        output_index = interpreter.get_output_details()[0][\"index\"]\n",
    "\n",
    "    image = request.files[\"file\"]\n",
    "\n",
    "    image = np.array(\n",
    "        Image.open(image).convert(\"RGB\").resize((256, 256))\n",
    "    )[:, :, ::-1]\n",
    "    predicted_class, confidence = predict_using_tflite_model(image)\n",
    "    return {\"class\": predicted_class, \"confidence\": confidence}"
   ]
  }
 ],
 "metadata": {
  "kernelspec": {
   "display_name": "Python 3",
   "language": "python",
   "name": "python3"
  },
  "language_info": {
   "codemirror_mode": {
    "name": "ipython",
    "version": 3
   },
   "file_extension": ".py",
   "mimetype": "text/x-python",
   "name": "python",
   "nbconvert_exporter": "python",
   "pygments_lexer": "ipython3",
   "version": "3.9.4"
  }
 },
 "nbformat": 4,
 "nbformat_minor": 5
}
