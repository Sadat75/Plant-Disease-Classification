{
 "cells": [
  {
   "cell_type": "code",
   "execution_count": null,
   "id": "94fb2d87",
   "metadata": {},
   "outputs": [],
   "source": [
    "from google.cloud import storage\n",
    "import tensorflow as tf\n",
    "from PIL import Image\n",
    "import numpy as np"
   ]
  },
  {
   "cell_type": "code",
   "execution_count": null,
   "id": "1ff1df06",
   "metadata": {},
   "outputs": [],
   "source": [
    "model = None\n",
    "interpreter = None\n",
    "input_index = None\n",
    "output_index = None\n",
    "\n",
    "class_names = [\"Early Blight\", \"Late Blight\", \"Healthy\"]"
   ]
  },
  {
   "cell_type": "code",
   "execution_count": null,
   "id": "fd644624",
   "metadata": {},
   "outputs": [],
   "source": [
    "BUCKET_NAME = \"plant-disease-tf-models\" # Here you need to put the name of your GCP bucket"
   ]
  },
  {
   "cell_type": "code",
   "execution_count": null,
   "id": "302e2bce",
   "metadata": {},
   "outputs": [],
   "source": [
    "def download_blob(bucket_name, source_blob_name, destination_file_name):\n",
    "    \"\"\"Downloads a blob from the bucket.\"\"\"\n",
    "    storage_client = storage.Client()\n",
    "    bucket = storage_client.get_bucket(bucket_name)\n",
    "    blob = bucket.blob(source_blob_name)\n",
    "\n",
    "    blob.download_to_filename(destination_file_name)\n",
    "\n",
    "    print(f\"Blob {source_blob_name} downloaded to {destination_file_name}.\")"
   ]
  },
  {
   "cell_type": "code",
   "execution_count": null,
   "id": "b27f7957",
   "metadata": {},
   "outputs": [],
   "source": [
    "def predict(request):\n",
    "    global model\n",
    "    if model is None:\n",
    "        download_blob(\n",
    "            BUCKET_NAME,\n",
    "            \"models/potatoes.h5\",\n",
    "            \"/tmp/potatoes.h5\",\n",
    "        )\n",
    "        model = tf.keras.models.load_model(\"/tmp/potatoes.h5\")\n",
    "\n",
    "    image = request.files[\"file\"]\n",
    "\n",
    "    image = np.array(\n",
    "        Image.open(image).convert(\"RGB\").resize((256, 256)) # image resizing\n",
    "    )\n",
    "\n",
    "    image = image/255 # normalize the image in 0 to 1 range\n",
    "\n",
    "    img_array = tf.expand_dims(img, 0)\n",
    "    predictions = model.predict(img_array)\n",
    "\n",
    "    print(\"Predictions:\",predictions)\n",
    "\n",
    "    predicted_class = class_names[np.argmax(predictions[0])]\n",
    "    confidence = round(100 * (np.max(predictions[0])), 2)\n",
    "\n",
    "    return {\"class\": predicted_class, \"confidence\": confidence}"
   ]
  }
 ],
 "metadata": {
  "kernelspec": {
   "display_name": "Python 3",
   "language": "python",
   "name": "python3"
  },
  "language_info": {
   "codemirror_mode": {
    "name": "ipython",
    "version": 3
   },
   "file_extension": ".py",
   "mimetype": "text/x-python",
   "name": "python",
   "nbconvert_exporter": "python",
   "pygments_lexer": "ipython3",
   "version": "3.9.4"
  }
 },
 "nbformat": 4,
 "nbformat_minor": 5
}
